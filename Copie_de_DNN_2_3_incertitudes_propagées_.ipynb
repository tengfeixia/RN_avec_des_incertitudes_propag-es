{
  "nbformat": 4,
  "nbformat_minor": 0,
  "metadata": {
    "colab": {
      "name": "Copie de DNN 2.3 incertitudes propagées .ipynb",
      "provenance": [],
      "authorship_tag": "ABX9TyMH/LQI/YSj3u+yhzLfe6T9",
      "include_colab_link": true
    },
    "kernelspec": {
      "display_name": "Python 3",
      "name": "python3"
    },
    "language_info": {
      "name": "python"
    }
  },
  "cells": [
    {
      "cell_type": "markdown",
      "metadata": {
        "id": "view-in-github",
        "colab_type": "text"
      },
      "source": [
        "<a href=\"https://colab.research.google.com/github/tengfeixia/RN_avec_des_incertitudes_propag-es/blob/main/Copie_de_DNN_2_3_incertitudes_propag%C3%A9es_.ipynb\" target=\"_parent\"><img src=\"https://colab.research.google.com/assets/colab-badge.svg\" alt=\"Open In Colab\"/></a>"
      ]
    },
    {
      "cell_type": "code",
      "metadata": {
        "id": "2kH-7cvwjtKK"
      },
      "source": [
        "import matplotlib.pylab as plt\n",
        "import numpy as np\n",
        "from sklearn.model_selection import train_test_split"
      ],
      "execution_count": null,
      "outputs": []
    },
    {
      "cell_type": "code",
      "metadata": {
        "colab": {
          "base_uri": "https://localhost:8080/"
        },
        "id": "DDaAP1cAj6Y6",
        "outputId": "1b6335d2-936d-4a2d-e98b-cc005af440c2"
      },
      "source": [
        "X= 3*np.arange(-5,5,0.001)\n",
        "\n",
        "X = np.atleast_2d(X)\n",
        "X = X.T\n",
        "sigmax = ((2*0.05*np.sqrt(2))/6)*np.ones_like(X)\n",
        "var_x = np.square(sigmax)\n",
        "var_y = np.square (np.cos(0.5*X)+1)*var_x\n",
        "print (sigmax)\n",
        "print (np.shape(X))\n",
        "\n",
        "Y= 2*np.sin(0.5*X)+X\n",
        "\n"
      ],
      "execution_count": null,
      "outputs": [
        {
          "output_type": "stream",
          "text": [
            "[[0.02357023]\n",
            " [0.02357023]\n",
            " [0.02357023]\n",
            " ...\n",
            " [0.02357023]\n",
            " [0.02357023]\n",
            " [0.02357023]]\n",
            "(10000, 1)\n"
          ],
          "name": "stdout"
        }
      ]
    },
    {
      "cell_type": "code",
      "metadata": {
        "colab": {
          "base_uri": "https://localhost:8080/",
          "height": 614
        },
        "id": "Ehm1abHGj-r3",
        "outputId": "bc86695b-e077-400f-ceac-930615ad96ae"
      },
      "source": [
        "plt.figure()\n",
        "plt.title (\"Y_train -- X_train\")\n",
        "plt.scatter(X,Y)\n",
        "plt.xlabel(\"X\")\n",
        "plt.ylabel(\"Y\")\n",
        "\n",
        "\n",
        "fig , ax = plt.subplots()\n",
        "ax.errorbar (X,Y,yerr = var_y, xerr = var_x, fmt =\"x\", markersize = 1, color = \"green\", ecolor=\"black\", elinewidth=10)"
      ],
      "execution_count": null,
      "outputs": [
        {
          "output_type": "stream",
          "text": [
            "/usr/local/lib/python3.7/dist-packages/ipykernel_launcher.py:9: MatplotlibDeprecationWarning: Support for passing a (n, 1)-shaped error array to errorbar() is deprecated since Matplotlib 3.1 and will be removed in 3.3; pass a 1D array instead.\n",
            "  if __name__ == '__main__':\n"
          ],
          "name": "stderr"
        },
        {
          "output_type": "execute_result",
          "data": {
            "text/plain": [
              "<ErrorbarContainer object of 3 artists>"
            ]
          },
          "metadata": {
            "tags": []
          },
          "execution_count": 13
        },
        {
          "output_type": "display_data",
          "data": {
            "image/png": "[encoded data removed]",
            "text/plain": [
              "<Figure size 432x288 with 1 Axes>"
            ]
          },
          "metadata": {
            "tags": [],
            "needs_background": "light"
          }
        },
        {
          "output_type": "display_data",
          "data": {
            "image/png": "[encoded data removed]",
            "text/plain": [
              "<Figure size 432x288 with 1 Axes>"
            ]
          },
          "metadata": {
            "tags": [],
            "needs_background": "light"
          }
        }
      ]
    },
    {
      "cell_type": "code",
      "metadata": {
        "id": "Av5cp1bQpl8M"
      },
      "source": [
        "# cas classique\n",
        "import keras\n",
        "from keras.models import Sequential\n",
        "from keras.layers import Dense,Activation\n",
        "import matplotlib.pyplot as plt\n",
        "from keras.optimizers import SGD, Adam\n",
        "import tensorflow as tf\n",
        "\n"
      ],
      "execution_count": null,
      "outputs": []
    },
    {
      "cell_type": "code",
      "metadata": {
        "colab": {
          "base_uri": "https://localhost:8080/"
        },
        "id": "QefAD-ftvb3a",
        "outputId": "d86b3ace-ea78-4864-f644-dff3b0e216c1"
      },
      "source": [
        "MSEs = []\n",
        "model = keras.Sequential ([\n",
        "                           Dense (4, input_shape = ((1,))), Activation('relu'),\n",
        "                           Dense (8), Activation('relu'),\n",
        "                           Dense (4), Activation('relu'),\n",
        "                           Dense (1), Activation(None)\n",
        "])\n",
        "my_opti = tf.keras.optimizers.Adam()\n",
        "\n",
        "model.compile (optimizer = my_opti, loss= 'mse' )\n",
        "\n",
        "history = model.fit (X, Y, batch_size=10,epochs=40)\n"
      ],
      "execution_count": null,
      "outputs": [
        {
          "output_type": "stream",
          "text": [
            "Epoch 1/40\n",
            "1000/1000 [==============================] - 2s 1ms/step - loss: 43.3436\n",
            "Epoch 2/40\n",
            "1000/1000 [==============================] - 1s 1ms/step - loss: 30.9653\n",
            "Epoch 3/40\n",
            "1000/1000 [==============================] - 1s 1ms/step - loss: 24.3334\n",
            "Epoch 4/40\n",
            "1000/1000 [==============================] - 1s 1ms/step - loss: 20.9565\n",
            "Epoch 5/40\n",
            "1000/1000 [==============================] - 1s 1ms/step - loss: 16.7542\n",
            "Epoch 6/40\n",
            "1000/1000 [==============================] - 1s 1ms/step - loss: 14.0258\n",
            "Epoch 7/40\n",
            "1000/1000 [==============================] - 1s 999us/step - loss: 11.5990\n",
            "Epoch 8/40\n",
            "1000/1000 [==============================] - 1s 1ms/step - loss: 9.3264\n",
            "Epoch 9/40\n",
            "1000/1000 [==============================] - 1s 1ms/step - loss: 7.8627\n",
            "Epoch 10/40\n",
            "1000/1000 [==============================] - 1s 1ms/step - loss: 6.5489\n",
            "Epoch 11/40\n",
            "1000/1000 [==============================] - 1s 1ms/step - loss: 5.1927\n",
            "Epoch 12/40\n",
            "1000/1000 [==============================] - 1s 1ms/step - loss: 4.3472\n",
            "Epoch 13/40\n",
            "1000/1000 [==============================] - 1s 1ms/step - loss: 3.5501\n",
            "Epoch 14/40\n",
            "1000/1000 [==============================] - 1s 1ms/step - loss: 2.8419\n",
            "Epoch 15/40\n",
            "1000/1000 [==============================] - 1s 1ms/step - loss: 2.1433\n",
            "Epoch 16/40\n",
            "1000/1000 [==============================] - 1s 1ms/step - loss: 1.6448\n",
            "Epoch 17/40\n",
            "1000/1000 [==============================] - 1s 1ms/step - loss: 1.2890\n",
            "Epoch 18/40\n",
            "1000/1000 [==============================] - 1s 1ms/step - loss: 1.0789\n",
            "Epoch 19/40\n",
            "1000/1000 [==============================] - 1s 1ms/step - loss: 0.7628\n",
            "Epoch 20/40\n",
            "1000/1000 [==============================] - 1s 1ms/step - loss: 0.5607\n",
            "Epoch 21/40\n",
            "1000/1000 [==============================] - 1s 1ms/step - loss: 0.4056\n",
            "Epoch 22/40\n",
            "1000/1000 [==============================] - 1s 1ms/step - loss: 0.3054\n",
            "Epoch 23/40\n",
            "1000/1000 [==============================] - 1s 1ms/step - loss: 0.1955\n",
            "Epoch 24/40\n",
            "1000/1000 [==============================] - 1s 1ms/step - loss: 0.1657\n",
            "Epoch 25/40\n",
            "1000/1000 [==============================] - 1s 1ms/step - loss: 0.1197\n",
            "Epoch 26/40\n",
            "1000/1000 [==============================] - 1s 1ms/step - loss: 0.0796\n",
            "Epoch 27/40\n",
            "1000/1000 [==============================] - 1s 1ms/step - loss: 0.0669\n",
            "Epoch 28/40\n",
            "1000/1000 [==============================] - 1s 1ms/step - loss: 0.0529\n",
            "Epoch 29/40\n",
            "1000/1000 [==============================] - 1s 1ms/step - loss: 0.0435\n",
            "Epoch 30/40\n",
            "1000/1000 [==============================] - 1s 1ms/step - loss: 0.0362\n",
            "Epoch 31/40\n",
            "1000/1000 [==============================] - 1s 1ms/step - loss: 0.0273\n",
            "Epoch 32/40\n",
            "1000/1000 [==============================] - 1s 1ms/step - loss: 0.0262\n",
            "Epoch 33/40\n",
            "1000/1000 [==============================] - 1s 1ms/step - loss: 0.0246\n",
            "Epoch 34/40\n",
            "1000/1000 [==============================] - 1s 1ms/step - loss: 0.0263\n",
            "Epoch 35/40\n",
            "1000/1000 [==============================] - 1s 1ms/step - loss: 0.0192\n",
            "Epoch 36/40\n",
            "1000/1000 [==============================] - 1s 1ms/step - loss: 0.0213\n",
            "Epoch 37/40\n",
            "1000/1000 [==============================] - 1s 1ms/step - loss: 0.0225\n",
            "Epoch 38/40\n",
            "1000/1000 [==============================] - 1s 1ms/step - loss: 0.0214\n",
            "Epoch 39/40\n",
            "1000/1000 [==============================] - 1s 1ms/step - loss: 0.0239\n",
            "Epoch 40/40\n",
            "1000/1000 [==============================] - 1s 1ms/step - loss: 0.0190\n"
          ],
          "name": "stdout"
        }
      ]
    },
    {
      "cell_type": "code",
      "metadata": {
        "colab": {
          "base_uri": "https://localhost:8080/",
          "height": 562
        },
        "id": "AYEb8lANvkzx",
        "outputId": "f8e6dbc6-4c67-404b-f837-1a74cc56ca59"
      },
      "source": [
        "plt.figure()\n",
        "plt.title (\"régression Y - X ,cas classique\")\n",
        "plt.scatter (X, model(X))\n",
        "\n",
        "plt.figure()\n",
        "plt.title(\"MSE\")\n",
        "plt.plot(history.history ['loss'])\n",
        "plt.show\n",
        "\n"
      ],
      "execution_count": null,
      "outputs": [
        {
          "output_type": "execute_result",
          "data": {
            "text/plain": [
              "<function matplotlib.pyplot.show>"
            ]
          },
          "metadata": {
            "tags": []
          },
          "execution_count": 17
        },
        {
          "output_type": "display_data",
          "data": {
            "image/png": "[encoded data removed]",
            "text/plain": [
              "<Figure size 432x288 with 1 Axes>"
            ]
          },
          "metadata": {
            "tags": [],
            "needs_background": "light"
          }
        },
        {
          "output_type": "display_data",
          "data": {
            "image/png": "[encoded data removed]",
            "text/plain": [
              "<Figure size 432x288 with 1 Axes>"
            ]
          },
          "metadata": {
            "tags": [],
            "needs_background": "light"
          }
        }
      ]
    },
    {
      "cell_type": "code",
      "metadata": {
        "id": "RCwmJNBUwQhm"
      },
      "source": [
        "\n"
      ],
      "execution_count": null,
      "outputs": []
    },
    {
      "cell_type": "code",
      "metadata": {
        "colab": {
          "base_uri": "https://localhost:8080/",
          "height": 1000
        },
        "id": "qO0sbhPezcXh",
        "outputId": "bf8706ab-8c13-4f4d-8acd-446abdda84fc"
      },
      "source": [
        "class Layer:\n",
        "\n",
        "    def __init__ (self,n_input,n_neurons, activation = None, weights = None, bias = None):\n",
        "\n",
        "        \"\"\"\n",
        "        int n_input: nb de noeuds entrées (nb de noeuds de la couche précédente)\n",
        "        int n_neurons: nb de noeuds sorties (nb de noeuds de la couche actuelle)\n",
        "        str activation: type de la fonction d'activation \n",
        "        weights, bias: généré dans les couches\n",
        "        \"\"\"\n",
        "\n",
        "        self.weights = weights if weights is not None else np.random.randn(n_input,n_neurons)*np.sqrt(2/(n_neurons+n_input))\n",
        "        print (\"weights\", self.weights)\n",
        "        self.incer_weights = None \n",
        "        \n",
        "        self.bias = bias if bias is not None else np.zeros((n_neurons))\n",
        "        print (\"bias\", self.bias)\n",
        "                        \n",
        "        self.nb_neurons = n_neurons \n",
        "\n",
        "        self.activation = activation\n",
        "        self.activation_value = None\n",
        "        self.error = None\n",
        "        self.delta = None\n",
        "        self.gradient = None\n",
        "        self.x = None\n",
        "        self.z = None\n",
        "\n",
        "        #pour adam\n",
        "        #bias\n",
        "        self.v_b = 0\n",
        "        self.grad_sq_b = 0\n",
        "        self.v_hat_b = 0\n",
        "        self.grad_sq_hat_b = 0\n",
        "\n",
        "        #weights\n",
        "        self.v_w = 0\n",
        "        self.grad_sq_w = 0\n",
        "        self.v_hat_w = 0\n",
        "        self.grad_sq_hat_w = 0\n",
        "        self.grad = None \n",
        "\n",
        "        #incertitude\n",
        "        self.sigmay = None \n",
        "\n",
        "\n",
        "        # feed forward propagation\n",
        "\n",
        "    def feedforward (self,x):\n",
        "        self.x = x\n",
        "        z = np.dot (x,self.weights) + self.bias # z = wx+b\n",
        "        self.z =z\n",
        "        self.activation_value = self.apply_activation (z)\n",
        "        #print (self.weights)\n",
        "        return self.activation_value\n",
        "\n",
        "        # fonction d'activaiton\n",
        "\n",
        "    def feedforward_incertitude (self, sigmay):\n",
        "        \n",
        "        self.incer_weights = np.array (np.square (self.weights),copy = True)\n",
        "        sigmay = np.dot (sigmay, self.incer_weights)\n",
        "        sigmay = np.square(self.apply_activation_derivation (self.activation_value))*sigmay\n",
        "        return sigmay\n",
        "        \n",
        "\n",
        "\n",
        "    def apply_activation(self, z):\n",
        "\n",
        "        if self.activation is None:\n",
        "            return z\n",
        "        elif self.activation == \"relu\":\n",
        "            return np.maximum(z, 0)\n",
        "        elif self.activation == \"tanh\":\n",
        "            return np.tanh(z)\n",
        "        elif self.activation == \"sigmoid\":\n",
        "            return 1 / (1 + np.exp(-z))\n",
        "    \n",
        "\n",
        "        # dérivés des fonctions d'activation,， attention le input c'est a, value activé\n",
        "    def apply_activation_derivation(self, a):\n",
        "\n",
        "        if self.activation is None:\n",
        "            return np.ones_like(a)\n",
        "        elif self.activation == \"relu\":\n",
        "            grad = np.array(a, copy=True)\n",
        "            grad[a > 0] = 1.\n",
        "            grad[a<= 0] = 0.\n",
        "            return grad\n",
        "        elif self.activation == \"tanh\":\n",
        "            return 1 - a**2\n",
        "        elif self.activation == \"sigmoid\":\n",
        "            return a* (1 - a)\n",
        "# Neural Network\n",
        "\n",
        "class NN:\n",
        "    def __init__ (self):\n",
        "        self.__layers = []\n",
        "        self.layer_incertitude = None\n",
        "        \n",
        "        #paramètres adam\n",
        "        self.gamma = 0.9\n",
        "        self.beta = 0.99\n",
        "        self.epsilon = 10**-8\n",
        "        \n",
        "\n",
        "    def add_layer (self, layer): #add layer\n",
        "        self.__layers.append(layer)\n",
        "\n",
        "    def feed_forward (self, X): # X --> my_nn.feed_forward (X) --> y_predict\n",
        "        for layer in self.__layers:\n",
        "            X = layer.feedforward (X)\n",
        "        return X\n",
        "\n",
        "    def feed_forward_incertitude (self, sigma):\n",
        "        for layer in self.__layers:\n",
        "            sigma = layer.feedforward_incertitude(sigma)\n",
        "        return sigma\n",
        "\n",
        "    def back_propagation (self, X_train, y_train,sigmay,facteur_incer, lr):\n",
        "        y_predict = self.feed_forward(X_train)\n",
        "\n",
        "        layer_incertitude = self.feed_forward_incertitude (sigmay)*facteur_incer\n",
        "        self.layer_incertitude = layer_incertitude \n",
        "        #print (\"predict\",y_predict)\n",
        "        #print (\"incertitude\", layer_incertitude)\n",
        "\n",
        "        for i in reversed(range(len(self.__layers))):\n",
        "            current_layer = self.__layers[i] #get layer            \n",
        "    \n",
        "            if current_layer == self.__layers [-1]:  # si current == couche output\n",
        "                #print (\"delta y\",y_predict - y_train)\n",
        "                \n",
        "                current_layer.error = (y_predict - y_train)/(layer_incertitude)\n",
        "                #print (\"layer error\",current_layer.error)\n",
        "                #print (\"layer incertitude\", layer_incertitude)\n",
        "                \"\"\"\n",
        "                for element in layer_incertitude:\n",
        "                    if element < 1e-10:\n",
        "                        element = 1e-10\n",
        "                \"\"\"\n",
        "                current_layer.delta = 2*current_layer.error * current_layer.apply_activation_derivation (y_predict)\n",
        "                \n",
        "                previous_layer = self.__layers [i-1]\n",
        "                \n",
        "                #print (\"delta_output\", current_layer.delta)\n",
        "\n",
        "                #adam pour bias            \n",
        "                current_layer.v_b = self.gamma*current_layer.v_b + (1-self.gamma)*current_layer.delta\n",
        "                current_layer.grad_sq_b = self.beta*current_layer.grad_sq_b + (1- self.beta)*np.square (current_layer.delta)\n",
        "                current_layer.v_hat_b = current_layer.v_b / (1- self.gamma)\n",
        "                current_layer.grad_sq_hat_b = current_layer.grad_sq_b / (1- self.beta)\n",
        "                #print (\"test1\",current_layer.bias)\n",
        "                current_layer.bias -= lr * np.divide (current_layer.v_hat_b, np.sqrt (current_layer.grad_sq_hat_b+ self.epsilon) )\n",
        "\n",
        "                #print (\"test2\",current_layer.bias)\n",
        "                \n",
        "                \n",
        "                #adam pour weights\n",
        "                \n",
        "                current_layer.grad = current_layer.delta*(np.atleast_2d(previous_layer.activation_value)).T\n",
        "                current_layer.v_w = self.gamma*current_layer.v_w + (1-self.gamma)*current_layer.grad\n",
        "                current_layer.grad_sq_w= self.beta*current_layer.grad_sq_w + (1-self.beta)*np.square(current_layer.grad)\n",
        "                current_layer.v_hat_w = current_layer.v_w / (1- self.gamma)\n",
        "                current_layer.grad_sq_hat_w = current_layer.grad_sq_w/ (1- self.gamma)\n",
        "                current_layer.weights -= lr*np.divide(current_layer.v_hat_w,np.sqrt(current_layer.grad_sq_hat_w+self.epsilon))\n",
        "                \n",
        "\n",
        "            \n",
        "            else:\n",
        "                next_layer = self.__layers[i+1] #les incertitudes dépendent de la couche prochaine\n",
        "                \n",
        "                current_layer.error = np.dot(next_layer.weights, next_layer.delta)\n",
        "\n",
        "                #print (\"layer erroe\",current_layer.error)\n",
        "                #print (\"fprime\",current_layer.apply_activation_derivation(current_layer.activation_value))\n",
        "                current_layer.delta = current_layer.error* current_layer.apply_activation_derivation(current_layer.activation_value)\n",
        "                #print (\"delta\",current_layer.delta)\n",
        "                #print (\"delta_layers\", current_layer.delta)\n",
        "\n",
        "                # ________________________________adam pour bias\n",
        "                current_layer.v_b = self.gamma*current_layer.v_b + (1-self.gamma)*current_layer.delta\n",
        "                current_layer.grad_sq_b = self.beta*current_layer.grad_sq_b + (1- self.beta)*np.square (current_layer.delta)\n",
        "                current_layer.v_hat_b = current_layer.v_b / (1- self.gamma)\n",
        "                current_layer.grad_sq_hat_b = current_layer.grad_sq_b / (1- self.beta)\n",
        "                #print (\"test3\",current_layer.bias)\n",
        "                current_layer.bias -= lr * np.divide (current_layer.v_hat_b, np.sqrt (current_layer.grad_sq_hat_b+ self.epsilon) )\n",
        "                #print (\"test4\",current_layer.bias)\n",
        "\n",
        "                #__________________________________adam pour weights\n",
        "\n",
        "                \n",
        "                previous_layer = self.__layers [i-1]\n",
        "    \n",
        "                current_layer.grad = current_layer.delta*(np.atleast_2d(previous_layer.activation_value if current_layer != self.__layers [0] else X_train )).T\n",
        "                current_layer.v_w = self.gamma*current_layer.v_w + (1-self.gamma)*current_layer.grad\n",
        "                current_layer.grad_sq_w= self.beta*current_layer.grad_sq_w + (1-self.beta)*np.square(current_layer.grad)\n",
        "                current_layer.v_hat_w = current_layer.v_w / (1- self.gamma)\n",
        "                current_layer.grad_sq_hat_w = current_layer.grad_sq_w/ (1- self.gamma)\n",
        "                current_layer.weights -= lr*np.divide(current_layer.v_hat_w,np.sqrt(current_layer.grad_sq_hat_w+self.epsilon))\n",
        "\n",
        "\n",
        "\n",
        "    def train (self,X_train,X_test,y_train,y_test,sigmay,facteur_incer, lr, epochs):\n",
        "        mses = []\n",
        "        mses_relatives=[]\n",
        "        \n",
        "        monitor =0\n",
        "        for i in range (epochs):\n",
        "            for j in range (len (X_train)):\n",
        "\n",
        "                self.back_propagation(X_train[j],y_train[j],var_y[j],facteur_incer,lr)\n",
        "\n",
        "            mse_train = np.mean(np.square(self.feed_forward(X_train)- y_train))\n",
        "            if i % 10 ==0:\n",
        "                print (\"MSE classique\", mse_train,i)\n",
        "\n",
        "            mses.append (mse_train)\n",
        "            \n",
        "\n",
        "            if i % 1 ==0:\n",
        "                    \n",
        "                mse_relative = np.mean(np.square((self.feed_forward(X_train)- y_train)/self.layer_incertitude))\n",
        "                if i%10 ==0:\n",
        "                    print (\"MSE:\", mse_relative,i)\n",
        "                mses_relatives.append(mse_relative)\n",
        "\n",
        "                #plt.figure()\n",
        "                #plt.suptitle(i)\n",
        "                #plt.plot (X_test,self.feed_forward(X_test), \"x\", markersize = 6)\n",
        "\n",
        "        fig, ax = plt.subplots()\n",
        "        x = np.linspace(-15,15,100) #print the cruve sin (6x)\n",
        "        y = 2*np.sin(0.5*x)+x\n",
        "        plt.plot (x,y)\n",
        "        ax.errorbar (X_test,self.feed_forward(X_test),yerr = self.feed_forward_incertitude(var_x), fmt = \"o\", color = \"green\", ecolor = \"black\",elinewidth = 10)\n",
        "\n",
        "        return mses, mses_relatives\n",
        "\n",
        "\n",
        "\n",
        "    \n",
        "\n",
        "\n",
        "my_nn = NN()\n",
        "my_nn.add_layer(Layer(1, 4, \"relu\")) \n",
        "my_nn.add_layer(Layer(4, 8, \"relu\"))  \n",
        "my_nn.add_layer(Layer(8, 4, \"relu\"))\n",
        "my_nn.add_layer(Layer(4, 1, None))  \n",
        "\n",
        "\n",
        "\n",
        "#X_train, X_test, y_train, y_test = train_test_split (X,Y,test_size = 0.25,shuffle = False) #!!!!!!!!\n",
        "\n",
        "#mses = my_nn.train(X_train[0:1,:] ,X_test,y_train[0:1,:],y_test,sigmay [0:1,:],0.005,1)\n",
        "mses, mses_relatives = my_nn.train(X,X,Y,Y,var_x ,1e3,1e-6,1000)\n",
        "\n",
        "plt.figure()\n",
        "plt.plot(mses, 'b', label='MSE classique')\n",
        "\n",
        "plt.legend()\n",
        "plt.figure()\n",
        "plt.plot (mses_relatives,'r', label = 'MSE Relatives')\n",
        "plt.legend()"
      ],
      "execution_count": null,
      "outputs": [
        {
          "output_type": "stream",
          "text": [
            "weights [[ 0.05425267  0.34931017 -0.14549978  0.49472026]]\n",
            "bias [0. 0. 0. 0.]\n",
            "weights [[-0.92068152 -0.22187023 -0.06986691 -0.52026235 -0.46323989  0.40378203\n",
            "   0.71390256  0.29036765]\n",
            " [-0.15453912  0.42014777  0.22619311 -0.22936447 -0.25114984  0.6786368\n",
            "   0.12137705 -0.16225291]\n",
            " [-0.02964821  0.37770506 -0.25643188  0.21451525  0.12180589  0.47282494\n",
            "   0.12041379 -0.545689  ]\n",
            " [-0.25560444  0.03048948  0.10411876 -0.18978069  0.1046473   0.39915886\n",
            "   0.12644468  0.04634604]]\n",
            "bias [0. 0. 0. 0. 0. 0. 0. 0.]\n",
            "weights [[-0.17796018 -0.07616603 -0.58039757 -0.48487804]\n",
            " [ 0.44953093 -0.20504127 -0.22031299 -0.16454579]\n",
            " [-0.04460089  0.29668025  0.59561513  0.32595473]\n",
            " [-0.19800819  0.14863647  0.07005178  0.16594325]\n",
            " [ 0.03501354  0.55308778 -0.55333503 -0.43530611]\n",
            " [ 0.38901104  0.65395987 -0.11800752  0.68314586]\n",
            " [ 0.09123454 -0.78008656 -0.94085127  0.43741092]\n",
            " [-0.23300167  0.02506821  0.07352786  0.40815794]]\n",
            "bias [0. 0. 0. 0.]\n",
            "weights [[-1.00939455]\n",
            " [ 0.55865579]\n",
            " [-0.26609736]\n",
            " [-0.52290003]]\n",
            "bias [0.]\n",
            "MSE classique 100.23887813759256 0\n",
            "MSE: 51034.103502417136 0\n",
            "MSE classique 70.59952293390059 10\n",
            "MSE: 228153.70567104378 10\n",
            "MSE classique 47.03176132196479 20\n",
            "MSE: 525523.1259030746 20\n",
            "MSE classique 27.310024459364463 30\n",
            "MSE: 86927.3376038327 30\n",
            "MSE classique 14.328726521967003 40\n",
            "MSE: 3793.3552192368024 40\n",
            "MSE classique 3.8450401372049163 50\n",
            "MSE: 136.33536734761753 50\n",
            "MSE classique 2.9805509593345807 60\n",
            "MSE: 16.082521571580145 60\n",
            "MSE classique 5.002695091414895 70\n",
            "MSE: 21.84826241749192 70\n",
            "MSE classique 6.308046980699426 80\n",
            "MSE: 22.101874257220672 80\n",
            "MSE classique 6.784303530864298 90\n",
            "MSE: 20.73620977143491 90\n",
            "MSE classique 7.048548884892274 100\n",
            "MSE: 19.313944776058843 100\n",
            "MSE classique 7.232089463046723 110\n",
            "MSE: 17.889777729672144 110\n",
            "MSE classique 7.404531161931994 120\n",
            "MSE: 16.56895104467382 120\n",
            "MSE classique 7.551145622727934 130\n",
            "MSE: 15.328623421132198 130\n",
            "MSE classique 7.666007903561767 140\n",
            "MSE: 14.157305456966304 140\n",
            "MSE classique 7.777682792546423 150\n",
            "MSE: 13.066015464907782 150\n",
            "MSE classique 7.886570969544162 160\n",
            "MSE: 12.04859615331046 160\n",
            "MSE classique 7.992201144244903 170\n",
            "MSE: 11.10558613470985 170\n",
            "MSE classique 8.094332141422923 180\n",
            "MSE: 10.236237230825648 180\n",
            "MSE classique 8.195138663471585 190\n",
            "MSE: 9.446987718418136 190\n",
            "MSE classique 8.287443833410821 200\n",
            "MSE: 8.667633753845797 200\n",
            "MSE classique 8.370006286035869 210\n",
            "MSE: 7.999233322216128 210\n",
            "MSE classique 8.447019794997015 220\n",
            "MSE: 7.391876015660993 220\n",
            "MSE classique 8.788688049469032 230\n",
            "MSE: 7.249217260783669 230\n",
            "MSE classique 9.026111824256512 240\n",
            "MSE: 7.15779852640864 240\n",
            "MSE classique 9.234546268952188 250\n",
            "MSE: 7.049186769651738 250\n",
            "MSE classique 9.443660518732894 260\n",
            "MSE: 6.939058017273716 260\n",
            "MSE classique 9.657179032465388 270\n",
            "MSE: 6.830929391062751 270\n",
            "MSE classique 9.87839005125316 280\n",
            "MSE: 6.729238429776559 280\n",
            "MSE classique 10.100452095005085 290\n",
            "MSE: 6.633045483292039 290\n",
            "MSE classique 10.31460711204349 300\n",
            "MSE: 6.540133871995902 300\n",
            "MSE classique 10.507973058206222 310\n",
            "MSE: 6.44105339248537 310\n",
            "MSE classique 10.674691328908992 320\n",
            "MSE: 6.329980291543054 320\n",
            "MSE classique 10.821129355555577 330\n",
            "MSE: 6.2096275658793205 330\n",
            "MSE classique 10.95623416757522 340\n",
            "MSE: 6.083357464649943 340\n",
            "MSE classique 11.084316701562232 350\n",
            "MSE: 5.956043961253461 350\n",
            "MSE classique 11.130141550237749 360\n",
            "MSE: 5.767485072260493 360\n",
            "MSE classique 10.93096972360286 370\n",
            "MSE: 5.234874135104093 370\n",
            "MSE classique 10.969055205499544 380\n",
            "MSE: 4.834531409327939 380\n",
            "MSE classique 11.027203210359666 390\n",
            "MSE: 4.4839937890164565 390\n",
            "MSE classique 11.101386198766644 400\n",
            "MSE: 4.188196853715406 400\n",
            "MSE classique 11.148689428004962 410\n",
            "MSE: 3.918073357155617 410\n",
            "MSE classique 11.182724183556552 420\n",
            "MSE: 3.6669448514026874 420\n",
            "MSE classique 11.26571148292369 430\n",
            "MSE: 3.442697704817055 430\n",
            "MSE classique 11.371121414099663 440\n",
            "MSE: 3.2408924806036814 440\n",
            "MSE classique 11.480422838800605 450\n",
            "MSE: 3.0549546751677137 450\n",
            "MSE classique 11.591495954184179 460\n",
            "MSE: 2.8836602647669705 460\n",
            "MSE classique 11.706423772796086 470\n",
            "MSE: 2.725328017885712 470\n",
            "MSE classique 11.82230887616205 480\n",
            "MSE: 2.5787308525141306 480\n",
            "MSE classique 11.943627199312083 490\n",
            "MSE: 2.4430257283687467 490\n",
            "MSE classique 12.06690374238704 500\n",
            "MSE: 2.3170809392528566 500\n",
            "MSE classique 12.195157184666613 510\n",
            "MSE: 2.2000128675286468 510\n",
            "MSE classique 12.31696862302352 520\n",
            "MSE: 2.089290357589126 520\n",
            "MSE classique 12.435209989076279 530\n",
            "MSE: 1.9833870560038864 530\n",
            "MSE classique 12.545634768027192 540\n",
            "MSE: 1.8814368621383986 540\n",
            "MSE classique 12.63208009342488 550\n",
            "MSE: 1.7793368258348214 550\n",
            "MSE classique 12.65675063712685 560\n",
            "MSE: 1.6678948498724697 560\n",
            "MSE classique 13.090175907455214 570\n",
            "MSE: 1.6266085362597145 570\n",
            "MSE classique 13.302957704745713 580\n",
            "MSE: 1.5647371336823404 580\n",
            "MSE classique 13.477377560084255 590\n",
            "MSE: 1.5027941863843965 590\n",
            "MSE classique 13.648668972420783 600\n",
            "MSE: 1.4437524415269525 600\n",
            "MSE classique 13.823456758403676 610\n",
            "MSE: 1.3878651481889266 610\n",
            "MSE classique 14.00462155355628 620\n",
            "MSE: 1.335008772374597 620\n",
            "MSE classique 14.191606971931618 630\n",
            "MSE: 1.2849365311813816 630\n",
            "MSE classique 14.3840272405417 640\n",
            "MSE: 1.2374074339054106 640\n",
            "MSE classique 14.578099118486715 650\n",
            "MSE: 1.1918470547178872 650\n",
            "MSE classique 14.771496428665108 660\n",
            "MSE: 1.148031736302811 660\n",
            "MSE classique 14.982850189688142 670\n",
            "MSE: 1.10714407858099 670\n",
            "MSE classique 15.201120452857637 680\n",
            "MSE: 1.0680719570772468 680\n",
            "MSE classique 15.427676953462221 690\n",
            "MSE: 1.030629783014528 690\n",
            "MSE classique 15.660620794374138 700\n",
            "MSE: 0.994600480180854 700\n",
            "MSE classique 15.902059767529764 710\n",
            "MSE: 0.9599518184710966 710\n",
            "MSE classique 16.153151354972632 720\n",
            "MSE: 0.9265743969116603 720\n",
            "MSE classique 16.413113955838096 730\n",
            "MSE: 0.8942917977489362 730\n",
            "MSE classique 16.68276849763568 740\n",
            "MSE: 0.8630383542534772 740\n",
            "MSE classique 16.959609292322078 750\n",
            "MSE: 0.8327147149162559 750\n",
            "MSE classique 17.242384725235873 760\n",
            "MSE: 0.8032529661461434 760\n",
            "MSE classique 17.532422837341382 770\n",
            "MSE: 0.7747079830267859 770\n",
            "MSE classique 17.829775591722324 780\n",
            "MSE: 0.7470451160456788 780\n",
            "MSE classique 18.13736810602611 790\n",
            "MSE: 0.7202530215737663 790\n",
            "MSE classique 18.454271412053878 800\n",
            "MSE: 0.6942726827508269 800\n",
            "MSE classique 18.777154491911478 810\n",
            "MSE: 0.669094844421833 810\n",
            "MSE classique 19.100566483012194 820\n",
            "MSE: 0.6446149887277767 820\n",
            "MSE classique 19.39796189801639 830\n",
            "MSE: 0.6201813231746041 830\n",
            "MSE classique 19.527251857477896 840\n",
            "MSE: 0.5923890704898965 840\n",
            "MSE classique 19.11496707055764 850\n",
            "MSE: 0.55442258461758 850\n",
            "MSE classique 19.176395167274343 860\n",
            "MSE: 0.5293975486295786 860\n",
            "MSE classique 19.331665632909356 870\n",
            "MSE: 0.5083243263385965 870\n",
            "MSE classique 19.507557930640303 880\n",
            "MSE: 0.48961996490443616 880\n",
            "MSE classique 19.697059706965618 890\n",
            "MSE: 0.47285372844093954 890\n",
            "MSE classique 19.90581817151034 900\n",
            "MSE: 0.45793691798437086 900\n",
            "MSE classique 20.162976672069984 910\n",
            "MSE: 0.44546865851284545 910\n",
            "MSE classique 20.359425436948897 920\n",
            "MSE: 0.432866943074227 920\n",
            "MSE classique 20.51971551585424 930\n",
            "MSE: 0.4204912638014568 930\n",
            "MSE classique 20.773450907194864 940\n",
            "MSE: 0.4110435009058504 940\n",
            "MSE classique 21.005318568515616 950\n",
            "MSE: 0.40214082998115 950\n",
            "MSE classique 21.230336035462685 960\n",
            "MSE: 0.393979518255801 960\n",
            "MSE classique 21.456404022504408 970\n",
            "MSE: 0.3866299046994874 970\n",
            "MSE classique 21.687441894721044 980\n",
            "MSE: 0.3800901522310078 980\n",
            "MSE classique 21.918713661912168 990\n",
            "MSE: 0.3742874913907676 990\n"
          ],
          "name": "stdout"
        },
        {
          "output_type": "stream",
          "text": [
            "/usr/local/lib/python3.7/dist-packages/ipykernel_launcher.py:236: MatplotlibDeprecationWarning: Support for passing a (n, 1)-shaped error array to errorbar() is deprecated since Matplotlib 3.1 and will be removed in 3.3; pass a 1D array instead.\n"
          ],
          "name": "stderr"
        },
        {
          "output_type": "execute_result",
          "data": {
            "text/plain": [
              "<matplotlib.legend.Legend at 0x7fdf199e6090>"
            ]
          },
          "metadata": {
            "tags": []
          },
          "execution_count": 32
        },
        {
          "output_type": "display_data",
          "data": {
            "image/png": "[encoded data removed]",
            "text/plain": [
              "<Figure size 432x288 with 1 Axes>"
            ]
          },
          "metadata": {
            "tags": [],
            "needs_background": "light"
          }
        },
        {
          "output_type": "display_data",
          "data": {
            "image/png": "[encoded data removed]",
            "text/plain": [
              "<Figure size 432x288 with 1 Axes>"
            ]
          },
          "metadata": {
            "tags": [],
            "needs_background": "light"
          }
        },
        {
          "output_type": "display_data",
          "data": {
            "image/png": "[encoded data removed]",
            "text/plain": [
              "<Figure size 432x288 with 1 Axes>"
            ]
          },
          "metadata": {
            "tags": [],
            "needs_background": "light"
          }
        }
      ]
    },
    {
      "cell_type": "code",
      "metadata": {
        "colab": {
          "base_uri": "https://localhost:8080/",
          "height": 709
        },
        "id": "gG37v47H1YFz",
        "outputId": "9ef7bb2c-1965-4d89-d785-7b90c2a4d122"
      },
      "source": [
        "print (my_nn.feed_forward_incertitude(var_x))\n",
        "plt.figure()\n",
        "plt.title(\"incertitiudes prédites\")\n",
        "plt.scatter(X,my_nn.feed_forward_incertitude(var_x))\n",
        "plt.xlabel(\"x\")\n",
        "plt.ylabel(\"var_y prédit\")\n",
        "\n",
        "plt.figure()\n",
        "plt.title(\"incertitudes calculées\")\n",
        "plt.scatter(X,var_y)\n",
        "plt.xlabel(\"x\")\n",
        "plt.ylabel(\"var_y\")\n"
      ],
      "execution_count": null,
      "outputs": [
        {
          "output_type": "stream",
          "text": [
            "[[0.00018071]\n",
            " [0.00018071]\n",
            " [0.00018071]\n",
            " ...\n",
            " [0.00425772]\n",
            " [0.00425772]\n",
            " [0.00425772]]\n"
          ],
          "name": "stdout"
        },
        {
          "output_type": "execute_result",
          "data": {
            "text/plain": [
              "Text(0, 0.5, 'var_y')"
            ]
          },
          "metadata": {
            "tags": []
          },
          "execution_count": 33
        },
        {
          "output_type": "display_data",
          "data": {
            "image/png": "[encoded data removed]",
            "text/plain": [
              "<Figure size 432x288 with 1 Axes>"
            ]
          },
          "metadata": {
            "tags": [],
            "needs_background": "light"
          }
        },
        {
          "output_type": "display_data",
          "data": {
            "image/png": "[encoded data removed]",
            "text/plain": [
              "<Figure size 432x288 with 1 Axes>"
            ]
          },
          "metadata": {
            "tags": [],
            "needs_background": "light"
          }
        }
      ]
    },
    {
      "cell_type": "code",
      "metadata": {
        "id": "RtBsvPen2I4j"
      },
      "source": [
        "\n"
      ],
      "execution_count": null,
      "outputs": []
    }
  ]
}