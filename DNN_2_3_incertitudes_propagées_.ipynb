{
  "nbformat": 4,
  "nbformat_minor": 0,
  "metadata": {
    "colab": {
      "name": "DNN 2.3 incertitudes propagées .ipynb",
      "provenance": [],
      "authorship_tag": "ABX9TyNc0PBeFPF/NeywhnvKkOO7",
      "include_colab_link": true
    },
    "kernelspec": {
      "name": "python3",
      "display_name": "Python 3"
    },
    "language_info": {
      "name": "python"
    }
  },
  "cells": [
    {
      "cell_type": "markdown",
      "metadata": {
        "id": "view-in-github",
        "colab_type": "text"
      },
      "source": [
        "<a href=\"https://colab.research.google.com/github/tengfeixia/RN_avec_des_incertitudes_propag-es/blob/main/DNN_2_3_incertitudes_propag%C3%A9es_.ipynb\" target=\"_parent\"><img src=\"https://colab.research.google.com/assets/colab-badge.svg\" alt=\"Open In Colab\"/></a>"
      ]
    },
    {
      "cell_type": "code",
      "metadata": {
        "id": "2kH-7cvwjtKK"
      },
      "source": [
        "import matplotlib.pylab as plt\n",
        "import numpy as np\n",
        "from sklearn.model_selection import train_test_split"
      ],
      "execution_count": null,
      "outputs": []
    },
    {
      "cell_type": "code",
      "metadata": {
        "colab": {
          "base_uri": "https://localhost:8080/"
        },
        "id": "DDaAP1cAj6Y6",
        "outputId": "a65444fa-5697-4241-906f-8e51c3cbfb26"
      },
      "source": [
        "X= 3*np.arange(-5,5,0.001)\n",
        "\n",
        "X = np.atleast_2d(X)\n",
        "X = X.T\n",
        "sigmax = ((2*0.05*np.sqrt(2))/6)*np.ones_like(X)\n",
        "var_x = np.square(sigmax)\n",
        "var_y = np.square (np.cos(0.5*X)+1)*var_x\n",
        "print (sigmax)\n",
        "print (np.shape(X))\n",
        "\n",
        "Y= 2*np.sin(0.5*X)+X\n",
        "\n"
      ],
      "execution_count": null,
      "outputs": [
        {
          "output_type": "stream",
          "text": [
            "[[0.02357023]\n",
            " [0.02357023]\n",
            " [0.02357023]\n",
            " ...\n",
            " [0.02357023]\n",
            " [0.02357023]\n",
            " [0.02357023]]\n",
            "(10000, 1)\n"
          ],
          "name": "stdout"
        }
      ]
    },
    {
      "cell_type": "code",
      "metadata": {
        "colab": {
          "base_uri": "https://localhost:8080/",
          "height": 614
        },
        "id": "Ehm1abHGj-r3",
        "outputId": "9045079c-3e88-471f-8a94-9c27643a4baf"
      },
      "source": [
        "plt.figure()\n",
        "plt.title (\"Y_train -- X_train\")\n",
        "plt.scatter(X,Y)\n",
        "plt.xlabel(\"X\")\n",
        "plt.ylabel(\"Y\")\n",
        "\n",
        "\n",
        "fig , ax = plt.subplots()\n",
        "ax.errorbar (X,Y,yerr = var_y, xerr = var_x, fmt =\"x\", markersize = 1, color = \"green\", ecolor=\"black\", elinewidth=10)"
      ],
      "execution_count": null,
      "outputs": [
        {
          "output_type": "stream",
          "text": [
            "/usr/local/lib/python3.7/dist-packages/ipykernel_launcher.py:9: MatplotlibDeprecationWarning: Support for passing a (n, 1)-shaped error array to errorbar() is deprecated since Matplotlib 3.1 and will be removed in 3.3; pass a 1D array instead.\n",
            "  if __name__ == '__main__':\n"
          ],
          "name": "stderr"
        },
        {
          "output_type": "execute_result",
          "data": {
            "text/plain": [
              "<ErrorbarContainer object of 3 artists>"
            ]
          },
          "metadata": {
            "tags": []
          },
          "execution_count": 123
        },
        {
          "output_type": "display_data",
          "data": {
            "image/png": "[encoded data removed]",
            "text/plain": [
              "<Figure size 432x288 with 1 Axes>"
            ]
          },
          "metadata": {
            "tags": [],
            "needs_background": "light"
          }
        },
        {
          "output_type": "display_data",
          "data": {
            "image/png": "[encoded data removed]",
            "text/plain": [
              "<Figure size 432x288 with 1 Axes>"
            ]
          },
          "metadata": {
            "tags": [],
            "needs_background": "light"
          }
        }
      ]
    },
    {
      "cell_type": "code",
      "metadata": {
        "id": "Av5cp1bQpl8M"
      },
      "source": [
        "# cas classique\n",
        "import keras\n",
        "from keras.models import Sequential\n",
        "from keras.layers import Dense,Activation\n",
        "import matplotlib.pyplot as plt\n",
        "from keras.optimizers import SGD, Adam\n",
        "import tensorflow as tf\n",
        "\n"
      ],
      "execution_count": null,
      "outputs": []
    },
    {
      "cell_type": "code",
      "metadata": {
        "colab": {
          "base_uri": "https://localhost:8080/"
        },
        "id": "QefAD-ftvb3a",
        "outputId": "71caad2c-983d-4059-a7da-b7e1c2fe1cb2"
      },
      "source": [
        "MSEs = []\n",
        "model = keras.Sequential ([\n",
        "                           Dense (4, input_shape = ((1,))), Activation('relu'),\n",
        "                           Dense (4), Activation('relu'),\n",
        "                           Dense (4), Activation('relu'),\n",
        "                           Dense (1), Activation(None)\n",
        "])\n",
        "my_opti = tf.keras.optimizers.Adam()\n",
        "\n",
        "model.compile (optimizer = my_opti, loss= 'mse' )\n",
        "\n",
        "history = model.fit (X, Y, batch_size=10,epochs=40)\n"
      ],
      "execution_count": null,
      "outputs": [
        {
          "output_type": "stream",
          "text": [
            "Epoch 1/40\n",
            "1000/1000 [==============================] - 2s 1ms/step - loss: 30.9970\n",
            "Epoch 2/40\n",
            "1000/1000 [==============================] - 1s 1ms/step - loss: 1.6974\n",
            "Epoch 3/40\n",
            "1000/1000 [==============================] - 1s 1ms/step - loss: 1.6430\n",
            "Epoch 4/40\n",
            "1000/1000 [==============================] - 1s 1ms/step - loss: 1.6134\n",
            "Epoch 5/40\n",
            "1000/1000 [==============================] - 1s 1ms/step - loss: 1.6184\n",
            "Epoch 6/40\n",
            "1000/1000 [==============================] - 1s 1ms/step - loss: 1.6185\n",
            "Epoch 7/40\n",
            "1000/1000 [==============================] - 1s 1ms/step - loss: 1.6284\n",
            "Epoch 8/40\n",
            "1000/1000 [==============================] - 1s 1ms/step - loss: 1.6079\n",
            "Epoch 9/40\n",
            "1000/1000 [==============================] - 1s 1ms/step - loss: 1.6553\n",
            "Epoch 10/40\n",
            "1000/1000 [==============================] - 1s 1ms/step - loss: 1.6068\n",
            "Epoch 11/40\n",
            "1000/1000 [==============================] - 1s 1ms/step - loss: 1.6176\n",
            "Epoch 12/40\n",
            "1000/1000 [==============================] - 1s 1ms/step - loss: 1.6404\n",
            "Epoch 13/40\n",
            "1000/1000 [==============================] - 1s 1ms/step - loss: 1.6373\n",
            "Epoch 14/40\n",
            "1000/1000 [==============================] - 1s 1ms/step - loss: 1.6326\n",
            "Epoch 15/40\n",
            "1000/1000 [==============================] - 1s 1ms/step - loss: 1.6104\n",
            "Epoch 16/40\n",
            "1000/1000 [==============================] - 1s 1ms/step - loss: 1.5918\n",
            "Epoch 17/40\n",
            "1000/1000 [==============================] - 1s 1ms/step - loss: 1.6420\n",
            "Epoch 18/40\n",
            "1000/1000 [==============================] - 1s 1ms/step - loss: 1.6635\n",
            "Epoch 19/40\n",
            "1000/1000 [==============================] - 1s 1ms/step - loss: 1.6011\n",
            "Epoch 20/40\n",
            "1000/1000 [==============================] - 1s 1ms/step - loss: 1.6122\n",
            "Epoch 21/40\n",
            "1000/1000 [==============================] - 1s 1ms/step - loss: 1.6358\n",
            "Epoch 22/40\n",
            "1000/1000 [==============================] - 1s 1ms/step - loss: 1.5991\n",
            "Epoch 23/40\n",
            "1000/1000 [==============================] - 1s 1ms/step - loss: 1.6352\n",
            "Epoch 24/40\n",
            "1000/1000 [==============================] - 1s 1ms/step - loss: 1.6232\n",
            "Epoch 25/40\n",
            "1000/1000 [==============================] - 1s 1ms/step - loss: 1.6276\n",
            "Epoch 26/40\n",
            "1000/1000 [==============================] - 1s 1ms/step - loss: 1.6629\n",
            "Epoch 27/40\n",
            "1000/1000 [==============================] - 1s 1ms/step - loss: 1.6178\n",
            "Epoch 28/40\n",
            "1000/1000 [==============================] - 1s 1ms/step - loss: 1.6112\n",
            "Epoch 29/40\n",
            "1000/1000 [==============================] - 1s 1ms/step - loss: 1.6319\n",
            "Epoch 30/40\n",
            "1000/1000 [==============================] - 1s 1ms/step - loss: 1.6066\n",
            "Epoch 31/40\n",
            "1000/1000 [==============================] - 1s 1ms/step - loss: 1.6316\n",
            "Epoch 32/40\n",
            "1000/1000 [==============================] - 1s 1ms/step - loss: 1.6288\n",
            "Epoch 33/40\n",
            "1000/1000 [==============================] - 1s 1ms/step - loss: 1.6209\n",
            "Epoch 34/40\n",
            "1000/1000 [==============================] - 1s 1ms/step - loss: 1.6203\n",
            "Epoch 35/40\n",
            "1000/1000 [==============================] - 1s 1ms/step - loss: 1.6116\n",
            "Epoch 36/40\n",
            "1000/1000 [==============================] - 1s 1ms/step - loss: 1.5948\n",
            "Epoch 37/40\n",
            "1000/1000 [==============================] - 1s 1ms/step - loss: 1.6243\n",
            "Epoch 38/40\n",
            "1000/1000 [==============================] - 1s 1ms/step - loss: 1.6556\n",
            "Epoch 39/40\n",
            "1000/1000 [==============================] - 1s 1ms/step - loss: 1.6028\n",
            "Epoch 40/40\n",
            "1000/1000 [==============================] - 1s 1ms/step - loss: 1.6191\n"
          ],
          "name": "stdout"
        }
      ]
    },
    {
      "cell_type": "code",
      "metadata": {
        "colab": {
          "base_uri": "https://localhost:8080/",
          "height": 562
        },
        "id": "AYEb8lANvkzx",
        "outputId": "de5f9beb-481d-4b4e-f170-d2db1d9634c4"
      },
      "source": [
        "plt.figure()\n",
        "plt.title (\"régression Y - X ,cas classique\")\n",
        "plt.scatter (X, model(X))\n",
        "\n",
        "plt.figure()\n",
        "plt.title(\"MSE\")\n",
        "plt.plot(history.history ['loss'])\n",
        "plt.show\n",
        "\n"
      ],
      "execution_count": null,
      "outputs": [
        {
          "output_type": "execute_result",
          "data": {
            "text/plain": [
              "<function matplotlib.pyplot.show>"
            ]
          },
          "metadata": {
            "tags": []
          },
          "execution_count": 126
        },
        {
          "output_type": "display_data",
          "data": {
            "image/png": "[encoded data removed]",
            "text/plain": [
              "<Figure size 432x288 with 1 Axes>"
            ]
          },
          "metadata": {
            "tags": [],
            "needs_background": "light"
          }
        },
        {
          "output_type": "display_data",
          "data": {
            "image/png": "[encoded data removed]",
            "text/plain": [
              "<Figure size 432x288 with 1 Axes>"
            ]
          },
          "metadata": {
            "tags": [],
            "needs_background": "light"
          }
        }
      ]
    },
    {
      "cell_type": "code",
      "metadata": {
        "id": "RCwmJNBUwQhm"
      },
      "source": [
        "\n"
      ],
      "execution_count": null,
      "outputs": []
    },
    {
      "cell_type": "code",
      "metadata": {
        "colab": {
          "base_uri": "https://localhost:8080/",
          "height": 1000
        },
        "id": "qO0sbhPezcXh",
        "outputId": "5f86615d-6a61-4770-e498-5f2f6800b174"
      },
      "source": [
        "class Layer:\n",
        "\n",
        "    def __init__ (self,n_input,n_neurons, activation = None, weights = None, bias = None):\n",
        "\n",
        "        \"\"\"\n",
        "        int n_input: nb de noeuds entrées (nb de noeuds de la couche précédente)\n",
        "        int n_neurons: nb de noeuds sorties (nb de noeuds de la couche actuelle)\n",
        "        str activation: type de la fonction d'activation \n",
        "        weights, bias: généré dans les couches\n",
        "        \"\"\"\n",
        "\n",
        "        self.weights = weights if weights is not None else np.random.randn(n_input,n_neurons)*np.sqrt(2/(n_neurons+n_input))\n",
        "        print (\"weights\", self.weights)\n",
        "        self.incer_weights = None \n",
        "        \n",
        "        self.bias = bias if bias is not None else np.zeros((n_neurons))\n",
        "        print (\"bias\", self.bias)\n",
        "                        \n",
        "        self.nb_neurons = n_neurons \n",
        "\n",
        "        self.activation = activation\n",
        "        self.activation_value = None\n",
        "        self.error = None\n",
        "        self.delta = None\n",
        "        self.gradient = None\n",
        "        self.x = None\n",
        "        self.z = None\n",
        "\n",
        "        #pour adam\n",
        "        #bias\n",
        "        self.v_b = 0\n",
        "        self.grad_sq_b = 0\n",
        "        self.v_hat_b = 0\n",
        "        self.grad_sq_hat_b = 0\n",
        "\n",
        "        #weights\n",
        "        self.v_w = 0\n",
        "        self.grad_sq_w = 0\n",
        "        self.v_hat_w = 0\n",
        "        self.grad_sq_hat_w = 0\n",
        "        self.grad = None \n",
        "\n",
        "        #incertitude\n",
        "        self.sigmay = None \n",
        "\n",
        "\n",
        "        # feed forward propagation\n",
        "\n",
        "    def feedforward (self,x):\n",
        "        self.x = x\n",
        "        z = np.dot (x,self.weights) + self.bias # z = wx+b\n",
        "        self.z =z\n",
        "        self.activation_value = self.apply_activation (z)\n",
        "        #print (self.weights)\n",
        "        return self.activation_value\n",
        "\n",
        "        # fonction d'activaiton\n",
        "\n",
        "    def feedforward_incertitude (self, sigmay):\n",
        "        \n",
        "        self.incer_weights = np.array (np.square (self.weights),copy = True)\n",
        "        sigmay = np.dot (sigmay, self.incer_weights)\n",
        "        sigmay = np.square(self.apply_activation_derivation (self.activation_value))*sigmay\n",
        "        return sigmay\n",
        "        \n",
        "\n",
        "\n",
        "    def apply_activation(self, z):\n",
        "\n",
        "        if self.activation is None:\n",
        "            return z\n",
        "        elif self.activation == \"relu\":\n",
        "            return np.maximum(z, 0)\n",
        "        elif self.activation == \"tanh\":\n",
        "            return np.tanh(z)\n",
        "        elif self.activation == \"sigmoid\":\n",
        "            return 1 / (1 + np.exp(-z))\n",
        "    \n",
        "\n",
        "        # dérivés des fonctions d'activation,， attention le input c'est a, value activé\n",
        "    def apply_activation_derivation(self, a):\n",
        "\n",
        "        if self.activation is None:\n",
        "            return np.ones_like(a)\n",
        "        elif self.activation == \"relu\":\n",
        "            grad = np.array(a, copy=True)\n",
        "            grad[a > 0] = 1.\n",
        "            grad[a<= 0] = 0.\n",
        "            return grad\n",
        "        elif self.activation == \"tanh\":\n",
        "            return 1 - a**2\n",
        "        elif self.activation == \"sigmoid\":\n",
        "            return a* (1 - a)\n",
        "# Neural Network\n",
        "\n",
        "class NN:\n",
        "    def __init__ (self):\n",
        "        self.__layers = []\n",
        "        self.layer_incertitude = None\n",
        "        \n",
        "        #paramètres adam\n",
        "        self.gamma = 0.9\n",
        "        self.beta = 0.99\n",
        "        self.epsilon = 10**-8\n",
        "        \n",
        "\n",
        "    def add_layer (self, layer): #add layer\n",
        "        self.__layers.append(layer)\n",
        "\n",
        "    def feed_forward (self, X): # X --> my_nn.feed_forward (X) --> y_predict\n",
        "        for layer in self.__layers:\n",
        "            X = layer.feedforward (X)\n",
        "        return X\n",
        "\n",
        "    def feed_forward_incertitude (self, sigma):\n",
        "        for layer in self.__layers:\n",
        "            sigma = layer.feedforward_incertitude(sigma)\n",
        "        return sigma\n",
        "\n",
        "    def back_propagation (self, X_train, y_train,sigmay,facteur_incer, lr):\n",
        "        y_predict = self.feed_forward(X_train)\n",
        "\n",
        "        layer_incertitude = self.feed_forward_incertitude (sigmay)*facteur_incer\n",
        "        self.layer_incertitude = layer_incertitude \n",
        "        #print (\"predict\",y_predict)\n",
        "        #print (\"incertitude\", layer_incertitude)\n",
        "\n",
        "        for i in reversed(range(len(self.__layers))):\n",
        "            current_layer = self.__layers[i] #get layer            \n",
        "    \n",
        "            if current_layer == self.__layers [-1]:  # si current == couche output\n",
        "                #print (\"delta y\",y_predict - y_train)\n",
        "                \n",
        "                current_layer.error = (y_predict - y_train)/(layer_incertitude)\n",
        "                #print (\"layer error\",current_layer.error)\n",
        "                #print (\"layer incertitude\", layer_incertitude)\n",
        "                \"\"\"\n",
        "                for element in layer_incertitude:\n",
        "                    if element < 1e-10:\n",
        "                        element = 1e-10\n",
        "                \"\"\"\n",
        "                current_layer.delta = 2*current_layer.error * current_layer.apply_activation_derivation (y_predict)\n",
        "                \n",
        "                previous_layer = self.__layers [i-1]\n",
        "                \n",
        "                #print (\"delta_output\", current_layer.delta)\n",
        "\n",
        "                #adam pour bias            \n",
        "                current_layer.v_b = self.gamma*current_layer.v_b + (1-self.gamma)*current_layer.delta\n",
        "                current_layer.grad_sq_b = self.beta*current_layer.grad_sq_b + (1- self.beta)*np.square (current_layer.delta)\n",
        "                current_layer.v_hat_b = current_layer.v_b / (1- self.gamma)\n",
        "                current_layer.grad_sq_hat_b = current_layer.grad_sq_b / (1- self.beta)\n",
        "                #print (\"test1\",current_layer.bias)\n",
        "                current_layer.bias -= lr * np.divide (current_layer.v_hat_b, np.sqrt (current_layer.grad_sq_hat_b+ self.epsilon) )\n",
        "\n",
        "                #print (\"test2\",current_layer.bias)\n",
        "                \n",
        "                \n",
        "                #adam pour weights\n",
        "                \n",
        "                current_layer.grad = current_layer.delta*(np.atleast_2d(previous_layer.activation_value)).T\n",
        "                current_layer.v_w = self.gamma*current_layer.v_w + (1-self.gamma)*current_layer.grad\n",
        "                current_layer.grad_sq_w= self.beta*current_layer.grad_sq_w + (1-self.beta)*np.square(current_layer.grad)\n",
        "                current_layer.v_hat_w = current_layer.v_w / (1- self.gamma)\n",
        "                current_layer.grad_sq_hat_w = current_layer.grad_sq_w/ (1- self.gamma)\n",
        "                current_layer.weights -= lr*np.divide(current_layer.v_hat_w,np.sqrt(current_layer.grad_sq_hat_w+self.epsilon))\n",
        "                \n",
        "\n",
        "            \n",
        "            else:\n",
        "                next_layer = self.__layers[i+1] #les incertitudes dépendent de la couche prochaine\n",
        "                \n",
        "                current_layer.error = np.dot(next_layer.weights, next_layer.delta)\n",
        "\n",
        "                #print (\"layer erroe\",current_layer.error)\n",
        "                #print (\"fprime\",current_layer.apply_activation_derivation(current_layer.activation_value))\n",
        "                current_layer.delta = current_layer.error* current_layer.apply_activation_derivation(current_layer.activation_value)\n",
        "                #print (\"delta\",current_layer.delta)\n",
        "                #print (\"delta_layers\", current_layer.delta)\n",
        "\n",
        "                # ________________________________adam pour bias\n",
        "                current_layer.v_b = self.gamma*current_layer.v_b + (1-self.gamma)*current_layer.delta\n",
        "                current_layer.grad_sq_b = self.beta*current_layer.grad_sq_b + (1- self.beta)*np.square (current_layer.delta)\n",
        "                current_layer.v_hat_b = current_layer.v_b / (1- self.gamma)\n",
        "                current_layer.grad_sq_hat_b = current_layer.grad_sq_b / (1- self.beta)\n",
        "                #print (\"test3\",current_layer.bias)\n",
        "                current_layer.bias -= lr * np.divide (current_layer.v_hat_b, np.sqrt (current_layer.grad_sq_hat_b+ self.epsilon) )\n",
        "                #print (\"test4\",current_layer.bias)\n",
        "\n",
        "                #__________________________________adam pour weights\n",
        "\n",
        "                \n",
        "                previous_layer = self.__layers [i-1]\n",
        "    \n",
        "                current_layer.grad = current_layer.delta*(np.atleast_2d(previous_layer.activation_value if current_layer != self.__layers [0] else X_train )).T\n",
        "                current_layer.v_w = self.gamma*current_layer.v_w + (1-self.gamma)*current_layer.grad\n",
        "                current_layer.grad_sq_w= self.beta*current_layer.grad_sq_w + (1-self.beta)*np.square(current_layer.grad)\n",
        "                current_layer.v_hat_w = current_layer.v_w / (1- self.gamma)\n",
        "                current_layer.grad_sq_hat_w = current_layer.grad_sq_w/ (1- self.gamma)\n",
        "                current_layer.weights -= lr*np.divide(current_layer.v_hat_w,np.sqrt(current_layer.grad_sq_hat_w+self.epsilon))\n",
        "\n",
        "\n",
        "\n",
        "    def train (self,X_train,X_test,y_train,y_test,sigmay,facteur_incer, lr, epochs):\n",
        "        mses = []\n",
        "        mses_relatives=[]\n",
        "        \n",
        "        monitor =0\n",
        "        for i in range (epochs):\n",
        "            for j in range (len (X_train)):\n",
        "\n",
        "                self.back_propagation(X_train[j],y_train[j],var_y[j],facteur_incer,lr)\n",
        "\n",
        "            mse_train = np.mean(np.square(self.feed_forward(X_train)- y_train))\n",
        "            if i % 10 ==0:\n",
        "                print (\"MSE classique\", mse_train,i)\n",
        "\n",
        "            mses.append (mse_train)\n",
        "            \n",
        "\n",
        "            if i % 1 ==0:\n",
        "                    \n",
        "                mse_relative = np.mean(np.square((self.feed_forward(X_train)- y_train)/self.layer_incertitude))\n",
        "                if i%10 ==0:\n",
        "                    print (\"MSE:\", mse_relative,i)\n",
        "                mses_relatives.append(mse_relative)\n",
        "\n",
        "                #plt.figure()\n",
        "                #plt.suptitle(i)\n",
        "                #plt.plot (X_test,self.feed_forward(X_test), \"x\", markersize = 6)\n",
        "\n",
        "        fig, ax = plt.subplots()\n",
        "        x = np.linspace(-15,15,100) #print the cruve sin (6x)\n",
        "        y = 2*np.sin(0.5*x)+x\n",
        "        plt.plot (x,y)\n",
        "        ax.errorbar (X_test,self.feed_forward(X_test),yerr = self.feed_forward_incertitude(var_y), fmt = \"o\", color = \"green\", ecolor = \"black\",elinewidth = 3)\n",
        "\n",
        "        return mses, mses_relatives\n",
        "\n",
        "\n",
        "\n",
        "    \n",
        "\n",
        "\n",
        "my_nn = NN()\n",
        "my_nn.add_layer(Layer(1, 4, \"relu\")) \n",
        "my_nn.add_layer(Layer(4, 4, \"relu\"))  \n",
        "my_nn.add_layer(Layer(4, 4, \"relu\"))\n",
        "my_nn.add_layer(Layer(4, 1, None))  \n",
        "\n",
        "\n",
        "\n",
        "#X_train, X_test, y_train, y_test = train_test_split (X,Y,test_size = 0.25,shuffle = False) #!!!!!!!!\n",
        "\n",
        "#mses = my_nn.train(X_train[0:1,:] ,X_test,y_train[0:1,:],y_test,sigmay [0:1,:],0.005,1)\n",
        "mses, mses_relatives = my_nn.train(X,X,Y,Y,var_y ,1e2,1e-4,40)\n",
        "\n",
        "plt.figure()\n",
        "plt.plot(mses, 'b', label='MSE classique')\n",
        "plt.legend()\n",
        "plt.figure()\n",
        "plt.plot (mses_relatives,'r', label = 'MSE Relatives')\n",
        "plt.legend()"
      ],
      "execution_count": null,
      "outputs": [
        {
          "output_type": "stream",
          "text": [
            "weights [[-0.17709748 -1.08847455 -0.87978471  0.53169603]]\n",
            "bias [0. 0. 0. 0.]\n",
            "weights [[ 0.13404594  0.35735883 -0.21091082  0.00224725]\n",
            " [ 0.62653997  0.76968829 -0.74081782 -0.83681898]\n",
            " [-0.42664031  0.32700635  0.37622613  0.67072646]\n",
            " [-0.51946877 -0.0728808   0.16527152  0.49638217]]\n",
            "bias [0. 0. 0. 0.]\n",
            "weights [[ 0.06452217  0.26574143  0.40429354 -0.04871215]\n",
            " [-0.773951   -0.03693934 -0.36234723 -0.22437616]\n",
            " [ 0.16244102 -0.10369482  1.04097737 -0.02231864]\n",
            " [-0.39204093 -0.4256021   0.0468094   0.60657317]]\n",
            "bias [0. 0. 0. 0.]\n",
            "weights [[-0.51395525]\n",
            " [-0.703115  ]\n",
            " [-0.31566237]\n",
            " [ 0.39534471]]\n",
            "bias [0.]\n",
            "MSE classique 1.7972956711575447 0\n",
            "MSE: 297.3184658366031 0\n",
            "MSE classique 1.839954528591141 10\n",
            "MSE: 57.80208081280985 10\n",
            "MSE classique 1.8345561213678272 20\n",
            "MSE: 19.65192953899013 20\n",
            "MSE classique 1.8840128136395708 30\n",
            "MSE: 7.670330046310537 30\n"
          ],
          "name": "stdout"
        },
        {
          "output_type": "stream",
          "text": [
            "/usr/local/lib/python3.7/dist-packages/ipykernel_launcher.py:236: MatplotlibDeprecationWarning: Support for passing a (n, 1)-shaped error array to errorbar() is deprecated since Matplotlib 3.1 and will be removed in 3.3; pass a 1D array instead.\n"
          ],
          "name": "stderr"
        },
        {
          "output_type": "execute_result",
          "data": {
            "text/plain": [
              "<matplotlib.legend.Legend at 0x7f7ca95f96d0>"
            ]
          },
          "metadata": {
            "tags": []
          },
          "execution_count": 174
        },
        {
          "output_type": "display_data",
          "data": {
            "image/png": "[encoded data removed]",
            "text/plain": [
              "<Figure size 432x288 with 1 Axes>"
            ]
          },
          "metadata": {
            "tags": [],
            "needs_background": "light"
          }
        },
        {
          "output_type": "display_data",
          "data": {
            "image/png": "[encoded data removed]",
            "text/plain": [
              "<Figure size 432x288 with 1 Axes>"
            ]
          },
          "metadata": {
            "tags": [],
            "needs_background": "light"
          }
        },
        {
          "output_type": "display_data",
          "data": {
            "image/png": "[encoded data removed]",
            "text/plain": [
              "<Figure size 432x288 with 1 Axes>"
            ]
          },
          "metadata": {
            "tags": [],
            "needs_background": "light"
          }
        }
      ]
    },
    {
      "cell_type": "code",
      "metadata": {
        "id": "gG37v47H1YFz"
      },
      "source": [
        ""
      ],
      "execution_count": null,
      "outputs": []
    }
  ]
}